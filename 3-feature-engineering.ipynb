{
 "cells": [
  {
   "cell_type": "markdown",
   "metadata": {},
   "source": [
    "# Vehicle Loan Prediction Machine Learning Model\n",
    "\n",
    "# 3. Feature Engineering"
   ]
  },
  {
   "cell_type": "markdown",
   "metadata": {},
   "source": [
    "### Import Libraries and Import Data"
   ]
  },
  {
   "cell_type": "code",
   "execution_count": 1,
   "metadata": {},
   "outputs": [],
   "source": [
    "import pandas as pd\n",
    "import matplotlib.pyplot as plt\n",
    "import numpy as np\n",
    "import seaborn as sns\n",
    "import warnings\n",
    "from sklearn.preprocessing import MinMaxScaler"
   ]
  },
  {
   "cell_type": "code",
   "execution_count": null,
   "metadata": {},
   "outputs": [],
   "source": [
    "# Suppress warniing to avoid clutter in the output\n",
    "warnings.filterwarnings(\"ignore\")"
   ]
  },
  {
   "cell_type": "code",
   "execution_count": 2,
   "metadata": {},
   "outputs": [],
   "source": [
    "# Load data\n",
    "loan_df = pd.read_csv('../data/vehicle_loans_eda.csv', index_col='UNIQUEID')"
   ]
  },
  {
   "cell_type": "code",
   "execution_count": 3,
   "metadata": {},
   "outputs": [
    {
     "data": {
      "text/html": [
       "<div>\n",
       "<style scoped>\n",
       "    .dataframe tbody tr th:only-of-type {\n",
       "        vertical-align: middle;\n",
       "    }\n",
       "\n",
       "    .dataframe tbody tr th {\n",
       "        vertical-align: top;\n",
       "    }\n",
       "\n",
       "    .dataframe thead th {\n",
       "        text-align: right;\n",
       "    }\n",
       "</style>\n",
       "<table border=\"1\" class=\"dataframe\">\n",
       "  <thead>\n",
       "    <tr style=\"text-align: right;\">\n",
       "      <th></th>\n",
       "      <th>DISBURSED_AMOUNT</th>\n",
       "      <th>ASSET_COST</th>\n",
       "      <th>LTV</th>\n",
       "      <th>MANUFACTURER_ID</th>\n",
       "      <th>EMPLOYMENT_TYPE</th>\n",
       "      <th>STATE_ID</th>\n",
       "      <th>AADHAR_FLAG</th>\n",
       "      <th>PAN_FLAG</th>\n",
       "      <th>VOTERID_FLAG</th>\n",
       "      <th>DRIVING_FLAG</th>\n",
       "      <th>...</th>\n",
       "      <th>PRIMARY_INSTAL_AMT</th>\n",
       "      <th>SEC_INSTAL_AMT</th>\n",
       "      <th>NEW_ACCTS_IN_LAST_SIX_MONTHS</th>\n",
       "      <th>DELINQUENT_ACCTS_IN_LAST_SIX_MONTHS</th>\n",
       "      <th>NO_OF_INQUIRIES</th>\n",
       "      <th>LOAN_DEFAULT</th>\n",
       "      <th>AGE</th>\n",
       "      <th>DISBURSAL_MONTH</th>\n",
       "      <th>AVERAGE_ACCT_AGE_MONTHS</th>\n",
       "      <th>CREDIT_HISTORY_LENGTH_MONTHS</th>\n",
       "    </tr>\n",
       "    <tr>\n",
       "      <th>UNIQUEID</th>\n",
       "      <th></th>\n",
       "      <th></th>\n",
       "      <th></th>\n",
       "      <th></th>\n",
       "      <th></th>\n",
       "      <th></th>\n",
       "      <th></th>\n",
       "      <th></th>\n",
       "      <th></th>\n",
       "      <th></th>\n",
       "      <th></th>\n",
       "      <th></th>\n",
       "      <th></th>\n",
       "      <th></th>\n",
       "      <th></th>\n",
       "      <th></th>\n",
       "      <th></th>\n",
       "      <th></th>\n",
       "      <th></th>\n",
       "      <th></th>\n",
       "      <th></th>\n",
       "    </tr>\n",
       "  </thead>\n",
       "  <tbody>\n",
       "    <tr>\n",
       "      <th>420825</th>\n",
       "      <td>50578</td>\n",
       "      <td>58400</td>\n",
       "      <td>89.55</td>\n",
       "      <td>45</td>\n",
       "      <td>Salaried</td>\n",
       "      <td>6</td>\n",
       "      <td>1</td>\n",
       "      <td>0</td>\n",
       "      <td>0</td>\n",
       "      <td>0</td>\n",
       "      <td>...</td>\n",
       "      <td>0</td>\n",
       "      <td>0</td>\n",
       "      <td>0</td>\n",
       "      <td>0</td>\n",
       "      <td>0</td>\n",
       "      <td>0</td>\n",
       "      <td>34</td>\n",
       "      <td>3</td>\n",
       "      <td>0</td>\n",
       "      <td>0</td>\n",
       "    </tr>\n",
       "    <tr>\n",
       "      <th>537409</th>\n",
       "      <td>47145</td>\n",
       "      <td>65550</td>\n",
       "      <td>73.23</td>\n",
       "      <td>45</td>\n",
       "      <td>Self employed</td>\n",
       "      <td>6</td>\n",
       "      <td>1</td>\n",
       "      <td>0</td>\n",
       "      <td>0</td>\n",
       "      <td>0</td>\n",
       "      <td>...</td>\n",
       "      <td>1991</td>\n",
       "      <td>0</td>\n",
       "      <td>0</td>\n",
       "      <td>1</td>\n",
       "      <td>0</td>\n",
       "      <td>1</td>\n",
       "      <td>33</td>\n",
       "      <td>9</td>\n",
       "      <td>23</td>\n",
       "      <td>23</td>\n",
       "    </tr>\n",
       "    <tr>\n",
       "      <th>417566</th>\n",
       "      <td>53278</td>\n",
       "      <td>61360</td>\n",
       "      <td>89.63</td>\n",
       "      <td>45</td>\n",
       "      <td>Self employed</td>\n",
       "      <td>6</td>\n",
       "      <td>1</td>\n",
       "      <td>0</td>\n",
       "      <td>0</td>\n",
       "      <td>0</td>\n",
       "      <td>...</td>\n",
       "      <td>0</td>\n",
       "      <td>0</td>\n",
       "      <td>0</td>\n",
       "      <td>0</td>\n",
       "      <td>0</td>\n",
       "      <td>0</td>\n",
       "      <td>32</td>\n",
       "      <td>1</td>\n",
       "      <td>0</td>\n",
       "      <td>0</td>\n",
       "    </tr>\n",
       "    <tr>\n",
       "      <th>624493</th>\n",
       "      <td>57513</td>\n",
       "      <td>66113</td>\n",
       "      <td>88.48</td>\n",
       "      <td>45</td>\n",
       "      <td>Self employed</td>\n",
       "      <td>6</td>\n",
       "      <td>1</td>\n",
       "      <td>0</td>\n",
       "      <td>0</td>\n",
       "      <td>0</td>\n",
       "      <td>...</td>\n",
       "      <td>31</td>\n",
       "      <td>0</td>\n",
       "      <td>0</td>\n",
       "      <td>0</td>\n",
       "      <td>1</td>\n",
       "      <td>1</td>\n",
       "      <td>24</td>\n",
       "      <td>10</td>\n",
       "      <td>8</td>\n",
       "      <td>15</td>\n",
       "    </tr>\n",
       "    <tr>\n",
       "      <th>539055</th>\n",
       "      <td>52378</td>\n",
       "      <td>60300</td>\n",
       "      <td>88.39</td>\n",
       "      <td>45</td>\n",
       "      <td>Self employed</td>\n",
       "      <td>6</td>\n",
       "      <td>1</td>\n",
       "      <td>0</td>\n",
       "      <td>0</td>\n",
       "      <td>0</td>\n",
       "      <td>...</td>\n",
       "      <td>0</td>\n",
       "      <td>0</td>\n",
       "      <td>0</td>\n",
       "      <td>0</td>\n",
       "      <td>1</td>\n",
       "      <td>1</td>\n",
       "      <td>41</td>\n",
       "      <td>9</td>\n",
       "      <td>0</td>\n",
       "      <td>0</td>\n",
       "    </tr>\n",
       "  </tbody>\n",
       "</table>\n",
       "<p>5 rows × 35 columns</p>\n",
       "</div>"
      ],
      "text/plain": [
       "          DISBURSED_AMOUNT  ASSET_COST    LTV  MANUFACTURER_ID  \\\n",
       "UNIQUEID                                                         \n",
       "420825               50578       58400  89.55               45   \n",
       "537409               47145       65550  73.23               45   \n",
       "417566               53278       61360  89.63               45   \n",
       "624493               57513       66113  88.48               45   \n",
       "539055               52378       60300  88.39               45   \n",
       "\n",
       "         EMPLOYMENT_TYPE  STATE_ID  AADHAR_FLAG  PAN_FLAG  VOTERID_FLAG  \\\n",
       "UNIQUEID                                                                  \n",
       "420825          Salaried         6            1         0             0   \n",
       "537409     Self employed         6            1         0             0   \n",
       "417566     Self employed         6            1         0             0   \n",
       "624493     Self employed         6            1         0             0   \n",
       "539055     Self employed         6            1         0             0   \n",
       "\n",
       "          DRIVING_FLAG  ...  PRIMARY_INSTAL_AMT  SEC_INSTAL_AMT  \\\n",
       "UNIQUEID                ...                                       \n",
       "420825               0  ...                   0               0   \n",
       "537409               0  ...                1991               0   \n",
       "417566               0  ...                   0               0   \n",
       "624493               0  ...                  31               0   \n",
       "539055               0  ...                   0               0   \n",
       "\n",
       "         NEW_ACCTS_IN_LAST_SIX_MONTHS  DELINQUENT_ACCTS_IN_LAST_SIX_MONTHS  \\\n",
       "UNIQUEID                                                                     \n",
       "420825                              0                                    0   \n",
       "537409                              0                                    1   \n",
       "417566                              0                                    0   \n",
       "624493                              0                                    0   \n",
       "539055                              0                                    0   \n",
       "\n",
       "          NO_OF_INQUIRIES  LOAN_DEFAULT  AGE  DISBURSAL_MONTH  \\\n",
       "UNIQUEID                                                        \n",
       "420825                  0             0   34                3   \n",
       "537409                  0             1   33                9   \n",
       "417566                  0             0   32                1   \n",
       "624493                  1             1   24               10   \n",
       "539055                  1             1   41                9   \n",
       "\n",
       "          AVERAGE_ACCT_AGE_MONTHS  CREDIT_HISTORY_LENGTH_MONTHS  \n",
       "UNIQUEID                                                         \n",
       "420825                          0                             0  \n",
       "537409                         23                            23  \n",
       "417566                          0                             0  \n",
       "624493                          8                            15  \n",
       "539055                          0                             0  \n",
       "\n",
       "[5 rows x 35 columns]"
      ]
     },
     "execution_count": 3,
     "metadata": {},
     "output_type": "execute_result"
    }
   ],
   "source": [
    "# Get loan_df head\n",
    "loan_df.head()"
   ]
  },
  {
   "cell_type": "markdown",
   "metadata": {},
   "source": [
    "Let’s bring in the explore_categorical and explore_continuous functions we created"
   ]
  },
  {
   "cell_type": "code",
   "execution_count": 4,
   "metadata": {},
   "outputs": [],
   "source": [
    "def explore_categorical(col_name):   \n",
    "    print(\"{0} Summary\".format(col_name))\n",
    "    print(\"\\n\")\n",
    "    \n",
    "    # Print the count of each category\n",
    "    print(\"{0} Counts\".format(col_name))\n",
    "    print(loan_df[col_name].value_counts())\n",
    "    print(\"\\n\")\n",
    "\n",
    "    # Print the ratio of each category\n",
    "    print(\"{0} Ratio\".format(col_name))\n",
    "    print(loan_df[col_name].value_counts(normalize=True))\n",
    "    print(\"\\n\")\n",
    "    \n",
    "    # Print counts of loan defaults grouped by the categorical column\n",
    "    print(\"{0} Default Counts\".format(col_name))\n",
    "    print(loan_df.groupby(col_name)['LOAN_DEFAULT'].value_counts().unstack(level=-1))\n",
    "    print(\"\\n\")\n",
    "\n",
    "    # Print ratio of loan defaults grouped by the categorical column\n",
    "    print(\"{0} Default Ratio\".format(col_name))\n",
    "    print(loan_df.groupby(col_name)['LOAN_DEFAULT'].value_counts(normalize=True).unstack(level=-1))\n",
    "    print(\"\\n\")\n",
    "\n",
    "    # Plot ratio of loan defaults by the categorical column\n",
    "    sns.catplot(data=loan_df,kind='count',x=col_name,hue='LOAN_DEFAULT')\n",
    "    plt.show()"
   ]
  },
  {
   "cell_type": "code",
   "execution_count": 5,
   "metadata": {},
   "outputs": [],
   "source": [
    "def explore_continuous(col_name):\n",
    "    # Print statistical summary\n",
    "    print(\"{0} Summary\".format(col_name))\n",
    "    print(\"\\n\")\n",
    "    print(loan_df[col_name].describe())\n",
    "    print(\"\\n\")\n",
    "\n",
    "    # Look at boxplot\n",
    "    sns.boxplot(x=col_name, data=loan_df)\n",
    "    plt.show()\n",
    "\n",
    "    # Look at the distribution\n",
    "    sns.distplot(loan_df[col_name], hist=False)\n",
    "    plt.show()\n",
    "\n",
    "    # Now lets look deeper by grouping with the target variable \n",
    "    print(\"{0} Grouped Summary\".format(col_name))\n",
    "    print(\"\\n\")\n",
    "    print(loan_df.groupby('LOAN_DEFAULT')[col_name].describe())\n",
    "\n",
    "    # Look at grouped boxplot \n",
    "    sns.boxplot(x=col_name, y='LOAN_DEFAULT', data=loan_df, orient=\"h\")\n",
    "    plt.show()"
   ]
  },
  {
   "cell_type": "markdown",
   "metadata": {},
   "source": [
    "## Binning\n",
    "\n",
    "In our exploratory analysis, we observed that disbursed amount had some extremely large values?\n",
    "\n",
    "Let's take another look at that with our explore_continuous function"
   ]
  },
  {
   "cell_type": "code",
   "execution_count": 6,
   "metadata": {},
   "outputs": [
    {
     "name": "stdout",
     "output_type": "stream",
     "text": [
      "DISBURSED_AMOUNT Summary\n",
      "\n",
      "\n",
      "count    233154.000000\n",
      "mean      54356.993528\n",
      "std       12971.314171\n",
      "min       13320.000000\n",
      "25%       47145.000000\n",
      "50%       53803.000000\n",
      "75%       60413.000000\n",
      "max      990572.000000\n",
      "Name: DISBURSED_AMOUNT, dtype: float64\n",
      "\n",
      "\n"
     ]
    },
    {
     "data": {
      "image/png": "[encoded data removed]",
      "text/plain": [
       "<Figure size 640x480 with 1 Axes>"
      ]
     },
     "metadata": {},
     "output_type": "display_data"
    },
    {
     "data": {
      "image/png": "[encoded data removed]",
      "text/plain": [
       "<Figure size 640x480 with 1 Axes>"
      ]
     },
     "metadata": {},
     "output_type": "display_data"
    },
    {
     "name": "stdout",
     "output_type": "stream",
     "text": [
      "DISBURSED_AMOUNT Grouped Summary\n",
      "\n",
      "\n",
      "                 count          mean           std      min      25%      50%  \\\n",
      "LOAN_DEFAULT                                                                    \n",
      "0             182543.0  53826.471111  13140.699007  13320.0  46369.0  53303.0   \n",
      "1              50611.0  56270.473869  12150.255527  13369.0  49303.0  55459.0   \n",
      "\n",
      "                  75%       max  \n",
      "LOAN_DEFAULT                     \n",
      "0             59947.0  990572.0  \n",
      "1             61947.0  191392.0  \n"
     ]
    },
    {
     "data": {
      "image/png": "[encoded data removed]",
      "text/plain": [
       "<Figure size 640x480 with 1 Axes>"
      ]
     },
     "metadata": {},
     "output_type": "display_data"
    }
   ],
   "source": [
    "# Analyse 'DISBURSED_AMOUNT'\n",
    "explore_continuous('DISBURSED_AMOUNT')"
   ]
  },
  {
   "cell_type": "markdown",
   "metadata": {},
   "source": [
    "Notice that the largest value here is 990,572 this is considerably larger than the next largest value which is also an extreme outlier \n",
    "\n",
    "Is it possible that this could be an error in the data?\n",
    "- If we assume that the disbursal amount is stored in Indian rupees then 990,572 equates to ~ £10,000 or $13,400\n",
    "- Indeed a lot of money but not impossible for a car loan \n",
    "\n",
    "Let's check the row data, LTV and ASSET_COST should give us an idea about whether or not this is a valid piece of data "
   ]
  },
  {
   "cell_type": "code",
   "execution_count": 7,
   "metadata": {},
   "outputs": [
    {
     "data": {
      "text/plain": [
       "440173"
      ]
     },
     "execution_count": 7,
     "metadata": {},
     "output_type": "execute_result"
    }
   ],
   "source": [
    "loan_df['DISBURSED_AMOUNT'].idxmax()"
   ]
  },
  {
   "cell_type": "code",
   "execution_count": 8,
   "metadata": {},
   "outputs": [
    {
     "data": {
      "text/plain": [
       "DISBURSED_AMOUNT                                                                  990572\n",
       "ASSET_COST                                                                       1628992\n",
       "LTV                                                                                61.39\n",
       "MANUFACTURER_ID                                                                      152\n",
       "EMPLOYMENT_TYPE                                                                  Missing\n",
       "STATE_ID                                                                               9\n",
       "AADHAR_FLAG                                                                            1\n",
       "PAN_FLAG                                                                               1\n",
       "VOTERID_FLAG                                                                           0\n",
       "DRIVING_FLAG                                                                           0\n",
       "PASSPORT_FLAG                                                                          0\n",
       "PERFORM_CNS_SCORE                                                                     16\n",
       "PERFORM_CNS_SCORE_DESCRIPTION          Not Scored: No Activity seen on the customer (...\n",
       "PRI_NO_OF_ACCTS                                                                        1\n",
       "PRI_ACTIVE_ACCTS                                                                       0\n",
       "PRI_OVERDUE_ACCTS                                                                      1\n",
       "PRI_CURRENT_BALANCE                                                                    0\n",
       "PRI_SANCTIONED_AMOUNT                                                                  0\n",
       "PRI_DISBURSED_AMOUNT                                                                   0\n",
       "SEC_NO_OF_ACCTS                                                                        0\n",
       "SEC_ACTIVE_ACCTS                                                                       0\n",
       "SEC_OVERDUE_ACCTS                                                                      0\n",
       "SEC_CURRENT_BALANCE                                                                    0\n",
       "SEC_SANCTIONED_AMOUNT                                                                  0\n",
       "SEC_DISBURSED_AMOUNT                                                                   0\n",
       "PRIMARY_INSTAL_AMT                                                                  6224\n",
       "SEC_INSTAL_AMT                                                                         0\n",
       "NEW_ACCTS_IN_LAST_SIX_MONTHS                                                           0\n",
       "DELINQUENT_ACCTS_IN_LAST_SIX_MONTHS                                                    0\n",
       "NO_OF_INQUIRIES                                                                        0\n",
       "LOAN_DEFAULT                                                                           0\n",
       "AGE                                                                                   28\n",
       "DISBURSAL_MONTH                                                                        8\n",
       "AVERAGE_ACCT_AGE_MONTHS                                                               70\n",
       "CREDIT_HISTORY_LENGTH_MONTHS                                                          70\n",
       "Name: 440173, dtype: object"
      ]
     },
     "execution_count": 8,
     "metadata": {},
     "output_type": "execute_result"
    }
   ],
   "source": [
    "loan_df.loc[loan_df['DISBURSED_AMOUNT'].idxmax()]"
   ]
  },
  {
   "cell_type": "markdown",
   "metadata": {},
   "source": [
    "It seems reasonable that the applicant borrowed 990,572 to pay for a car that cost 1,628,992. Let's assume a legitimate value that we want to include in our model \n",
    "\n",
    "One way we can keep extreme values without them skewing the data is through binning\n",
    "- Creating categorical groups from continuous variables\n"
   ]
  },
  {
   "cell_type": "code",
   "execution_count": 9,
   "metadata": {},
   "outputs": [],
   "source": [
    "# Define bins and labels for categorising 'DISBURSED_AMOUNT'\n",
    "disbursed_buckets = [13000, 30000, 45000, 60000, 75000, 150000, 1000000]\n",
    "disbursed_labels = ['13k - 30k', '30k - 45k', '45k - 60k', '60k - 75k', '75k - 150k', '150k - 1m']"
   ]
  },
  {
   "cell_type": "markdown",
   "metadata": {},
   "source": [
    "Now we need to use these bins to categorize our rows based on their disbursed amounts"
   ]
  },
  {
   "cell_type": "code",
   "execution_count": 10,
   "metadata": {},
   "outputs": [],
   "source": [
    "# Define a new categorical column based on 'DISBURSED_AMOUNT'\n",
    "loan_df['DISBURSED_CAT'] = pd.cut(loan_df['DISBURSED_AMOUNT'], disbursed_buckets, labels=disbursed_labels)"
   ]
  },
  {
   "cell_type": "markdown",
   "metadata": {},
   "source": [
    "Let's use explore_categorical to take a look at our new column!"
   ]
  },
  {
   "cell_type": "code",
   "execution_count": 11,
   "metadata": {},
   "outputs": [
    {
     "name": "stdout",
     "output_type": "stream",
     "text": [
      "DISBURSED_CAT Summary\n",
      "\n",
      "\n",
      "DISBURSED_CAT Counts\n",
      "DISBURSED_CAT\n",
      "45k - 60k     126904\n",
      "60k - 75k      49824\n",
      "30k - 45k      40626\n",
      "75k - 150k     10871\n",
      "13k - 30k       4865\n",
      "150k - 1m         64\n",
      "Name: count, dtype: int64\n",
      "\n",
      "\n",
      "DISBURSED_CAT Ratio\n",
      "DISBURSED_CAT\n",
      "45k - 60k     0.544293\n",
      "60k - 75k     0.213696\n",
      "30k - 45k     0.174245\n",
      "75k - 150k    0.046626\n",
      "13k - 30k     0.020866\n",
      "150k - 1m     0.000274\n",
      "Name: proportion, dtype: float64\n",
      "\n",
      "\n",
      "DISBURSED_CAT Default Counts\n",
      "LOAN_DEFAULT       0      1\n",
      "DISBURSED_CAT              \n",
      "13k - 30k       4207    658\n",
      "30k - 45k      34323   6303\n",
      "45k - 60k      98830  28074\n",
      "60k - 75k      37056  12768\n",
      "75k - 150k      8070   2801\n",
      "150k - 1m         57      7\n",
      "\n",
      "\n",
      "DISBURSED_CAT Default Ratio\n",
      "LOAN_DEFAULT          0         1\n",
      "DISBURSED_CAT                    \n",
      "13k - 30k      0.864748  0.135252\n",
      "30k - 45k      0.844853  0.155147\n",
      "45k - 60k      0.778778  0.221222\n",
      "60k - 75k      0.743738  0.256262\n",
      "75k - 150k     0.742342  0.257658\n",
      "150k - 1m      0.890625  0.109375\n",
      "\n",
      "\n"
     ]
    },
    {
     "data": {
      "image/png": "[encoded data removed]",
      "text/plain": [
       "<Figure size 616.361x500 with 1 Axes>"
      ]
     },
     "metadata": {},
     "output_type": "display_data"
    }
   ],
   "source": [
    "# Use the explore_categorical function to analyse the new 'DISBURSED_CAT' column\n",
    "explore_categorical('DISBURSED_CAT')"
   ]
  },
  {
   "cell_type": "markdown",
   "metadata": {},
   "source": [
    "Notice that the vast majority of loans fall in the '45k - 60k' bucket. \n",
    "\n",
    "Also, the higher the loan amount, the more likely it was to default except for loans in the very largest category"
   ]
  },
  {
   "cell_type": "markdown",
   "metadata": {},
   "source": [
    "## Combine Features"
   ]
  },
  {
   "cell_type": "markdown",
   "metadata": {},
   "source": [
    "### Disbursal Difference"
   ]
  },
  {
   "cell_type": "code",
   "execution_count": 12,
   "metadata": {},
   "outputs": [],
   "source": [
    "# Create a new feature 'DISBURSAL_DIFFERENCE'\n",
    "loan_df['DISBURSAL_DIFFERENCE'] = loan_df['ASSET_COST'] - loan_df['DISBURSED_AMOUNT']"
   ]
  },
  {
   "cell_type": "markdown",
   "metadata": {},
   "source": [
    "Let's inspect our new column"
   ]
  },
  {
   "cell_type": "code",
   "execution_count": 13,
   "metadata": {},
   "outputs": [
    {
     "data": {
      "text/html": [
       "<div>\n",
       "<style scoped>\n",
       "    .dataframe tbody tr th:only-of-type {\n",
       "        vertical-align: middle;\n",
       "    }\n",
       "\n",
       "    .dataframe tbody tr th {\n",
       "        vertical-align: top;\n",
       "    }\n",
       "\n",
       "    .dataframe thead th {\n",
       "        text-align: right;\n",
       "    }\n",
       "</style>\n",
       "<table border=\"1\" class=\"dataframe\">\n",
       "  <thead>\n",
       "    <tr style=\"text-align: right;\">\n",
       "      <th></th>\n",
       "      <th>DISBURSAL_DIFFERENCE</th>\n",
       "      <th>ASSET_COST</th>\n",
       "      <th>DISBURSED_AMOUNT</th>\n",
       "    </tr>\n",
       "    <tr>\n",
       "      <th>UNIQUEID</th>\n",
       "      <th></th>\n",
       "      <th></th>\n",
       "      <th></th>\n",
       "    </tr>\n",
       "  </thead>\n",
       "  <tbody>\n",
       "    <tr>\n",
       "      <th>581232</th>\n",
       "      <td>12146</td>\n",
       "      <td>58395</td>\n",
       "      <td>46249</td>\n",
       "    </tr>\n",
       "    <tr>\n",
       "      <th>464386</th>\n",
       "      <td>33647</td>\n",
       "      <td>93655</td>\n",
       "      <td>60008</td>\n",
       "    </tr>\n",
       "    <tr>\n",
       "      <th>558638</th>\n",
       "      <td>21640</td>\n",
       "      <td>73718</td>\n",
       "      <td>52078</td>\n",
       "    </tr>\n",
       "    <tr>\n",
       "      <th>537184</th>\n",
       "      <td>42456</td>\n",
       "      <td>75140</td>\n",
       "      <td>32684</td>\n",
       "    </tr>\n",
       "    <tr>\n",
       "      <th>514335</th>\n",
       "      <td>19333</td>\n",
       "      <td>66478</td>\n",
       "      <td>47145</td>\n",
       "    </tr>\n",
       "  </tbody>\n",
       "</table>\n",
       "</div>"
      ],
      "text/plain": [
       "          DISBURSAL_DIFFERENCE  ASSET_COST  DISBURSED_AMOUNT\n",
       "UNIQUEID                                                    \n",
       "581232                   12146       58395             46249\n",
       "464386                   33647       93655             60008\n",
       "558638                   21640       73718             52078\n",
       "537184                   42456       75140             32684\n",
       "514335                   19333       66478             47145"
      ]
     },
     "execution_count": 13,
     "metadata": {},
     "output_type": "execute_result"
    }
   ],
   "source": [
    "# Display a sample of the new feature\n",
    "loan_df[['DISBURSAL_DIFFERENCE', 'ASSET_COST', 'DISBURSED_AMOUNT']].sample(5)"
   ]
  },
  {
   "cell_type": "markdown",
   "metadata": {},
   "source": [
    "### Primary and Secondary Account Engineering\n",
    "\n",
    "The loan data contains 14 columns providing information about any existing loans a customer may have. This data is split according to primary and secondary accounts, a primary account is a loan where the customer is the sole recipient of the disbursal, \n",
    "a secondary account is one where the customer is a co-applicant or guarantor for the loan \n",
    "\n",
    "- PRI_NO_OF_ACCTS: count of total loans taken by the customer at the time of disbursement  \n",
    "- PRI_ACTIVE_ACCTS: count of active loans taken by the customer at the time of disbursement\n",
    "- PRI_OVERDUE_ACCTS: count of default accounts at the time of disbursement    \n",
    "- PRI_CURRENT_BALANCE: total Principal outstanding amount of the active loans at the time of disbursement        \n",
    "- PRI_SANCTIONED_AMOUNT: total amount that was sanctioned for all the loans at the time of disbursement  \n",
    "- PRI_DISBURSED_AMOUNT: total amount that was disbursed for all the loans at the time of disbursement\n",
    "- PRIMARY_INSTAL_AMT: EMI Amount of the primary loan\n",
    "- SEC_NO_OF_ACCTS: count of secondary total loans taken by the customer at the time of disbursement \n",
    "- SEC_ACTIVE_ACCTS: count of secondary active loans taken by the customer at the time of disbursement \n",
    "- SEC_OVERDUE_ACCTS: count of secondary accounts at the time of disbursement    \n",
    "- SEC_CURRENT_BALANCE: total Principal outstanding amount of the secondary active loans at the time of disbursement \n",
    "- SEC_SANCTIONED_AMOUNT: total amount that was sanctioned for all the secondary loans at the time of disbursement  \n",
    "- SEC_DISBURSED_AMOUNT: total amount that was disbursed for all the secondary loans at the time of disbursement\n",
    "- SEC_INSTAL_AMT: EMI Amount of the secondary loan \n",
    "\n",
    "Hopefully, you will see that in the majority of cases the data in these columns is limited\n",
    "\n",
    "Instead of simply dropping them, we will combine so we can reduce the complexity of our data without losing information\n",
    "\n",
    "For example, we can create a column 'TOTAL_ACCTS' to store the combined total of primary and secondary accounts\n"
   ]
  },
  {
   "cell_type": "code",
   "execution_count": 14,
   "metadata": {},
   "outputs": [],
   "source": [
    "# Combine primary and secondary account features\n",
    "loan_df['TOTAL_ACCTS'] = loan_df['PRI_NO_OF_ACCTS'] + loan_df['SEC_NO_OF_ACCTS']"
   ]
  },
  {
   "cell_type": "markdown",
   "metadata": {},
   "source": [
    "Let's look at the results"
   ]
  },
  {
   "cell_type": "code",
   "execution_count": 15,
   "metadata": {},
   "outputs": [
    {
     "data": {
      "text/html": [
       "<div>\n",
       "<style scoped>\n",
       "    .dataframe tbody tr th:only-of-type {\n",
       "        vertical-align: middle;\n",
       "    }\n",
       "\n",
       "    .dataframe tbody tr th {\n",
       "        vertical-align: top;\n",
       "    }\n",
       "\n",
       "    .dataframe thead th {\n",
       "        text-align: right;\n",
       "    }\n",
       "</style>\n",
       "<table border=\"1\" class=\"dataframe\">\n",
       "  <thead>\n",
       "    <tr style=\"text-align: right;\">\n",
       "      <th></th>\n",
       "      <th>TOTAL_ACCTS</th>\n",
       "      <th>PRI_NO_OF_ACCTS</th>\n",
       "      <th>SEC_NO_OF_ACCTS</th>\n",
       "    </tr>\n",
       "    <tr>\n",
       "      <th>UNIQUEID</th>\n",
       "      <th></th>\n",
       "      <th></th>\n",
       "      <th></th>\n",
       "    </tr>\n",
       "  </thead>\n",
       "  <tbody>\n",
       "    <tr>\n",
       "      <th>626954</th>\n",
       "      <td>0</td>\n",
       "      <td>0</td>\n",
       "      <td>0</td>\n",
       "    </tr>\n",
       "    <tr>\n",
       "      <th>513515</th>\n",
       "      <td>5</td>\n",
       "      <td>5</td>\n",
       "      <td>0</td>\n",
       "    </tr>\n",
       "    <tr>\n",
       "      <th>558983</th>\n",
       "      <td>0</td>\n",
       "      <td>0</td>\n",
       "      <td>0</td>\n",
       "    </tr>\n",
       "    <tr>\n",
       "      <th>475951</th>\n",
       "      <td>0</td>\n",
       "      <td>0</td>\n",
       "      <td>0</td>\n",
       "    </tr>\n",
       "    <tr>\n",
       "      <th>435783</th>\n",
       "      <td>0</td>\n",
       "      <td>0</td>\n",
       "      <td>0</td>\n",
       "    </tr>\n",
       "    <tr>\n",
       "      <th>552804</th>\n",
       "      <td>0</td>\n",
       "      <td>0</td>\n",
       "      <td>0</td>\n",
       "    </tr>\n",
       "    <tr>\n",
       "      <th>612444</th>\n",
       "      <td>0</td>\n",
       "      <td>0</td>\n",
       "      <td>0</td>\n",
       "    </tr>\n",
       "    <tr>\n",
       "      <th>485300</th>\n",
       "      <td>2</td>\n",
       "      <td>1</td>\n",
       "      <td>1</td>\n",
       "    </tr>\n",
       "    <tr>\n",
       "      <th>565261</th>\n",
       "      <td>1</td>\n",
       "      <td>1</td>\n",
       "      <td>0</td>\n",
       "    </tr>\n",
       "    <tr>\n",
       "      <th>630066</th>\n",
       "      <td>15</td>\n",
       "      <td>15</td>\n",
       "      <td>0</td>\n",
       "    </tr>\n",
       "  </tbody>\n",
       "</table>\n",
       "</div>"
      ],
      "text/plain": [
       "          TOTAL_ACCTS  PRI_NO_OF_ACCTS  SEC_NO_OF_ACCTS\n",
       "UNIQUEID                                               \n",
       "626954              0                0                0\n",
       "513515              5                5                0\n",
       "558983              0                0                0\n",
       "475951              0                0                0\n",
       "435783              0                0                0\n",
       "552804              0                0                0\n",
       "612444              0                0                0\n",
       "485300              2                1                1\n",
       "565261              1                1                0\n",
       "630066             15               15                0"
      ]
     },
     "execution_count": 15,
     "metadata": {},
     "output_type": "execute_result"
    }
   ],
   "source": [
    "# Display a sample of the results\n",
    "loan_df[['TOTAL_ACCTS', 'PRI_NO_OF_ACCTS', 'SEC_NO_OF_ACCTS']].sample(10)"
   ]
  },
  {
   "cell_type": "code",
   "execution_count": 16,
   "metadata": {},
   "outputs": [],
   "source": [
    "# Combine primary and secondary account features into aggregated columns\n",
    "loan_df['TOTAL_ACTIVE_ACCTS'] = loan_df['PRI_ACTIVE_ACCTS'] + loan_df['SEC_ACTIVE_ACCTS']\n",
    "loan_df['TOTAL_OVERDUE_ACCTS'] = loan_df['PRI_OVERDUE_ACCTS'] + loan_df['SEC_OVERDUE_ACCTS']\n",
    "loan_df['TOTAL_CURRENT_BALANCE'] = loan_df['PRI_CURRENT_BALANCE'] + loan_df['SEC_CURRENT_BALANCE']\n",
    "loan_df['TOTAL_SANCTIONED_AMOUNT'] = loan_df['PRI_SANCTIONED_AMOUNT'] + loan_df['SEC_SANCTIONED_AMOUNT'] \n",
    "loan_df['TOTAL_DISBURSED_AMOUNT'] = loan_df['PRI_DISBURSED_AMOUNT'] + loan_df['SEC_DISBURSED_AMOUNT']\n",
    "loan_df['TOTAL_INSTAL_AMT'] = loan_df['PRIMARY_INSTAL_AMT'] + loan_df['SEC_INSTAL_AMT']"
   ]
  },
  {
   "cell_type": "markdown",
   "metadata": {},
   "source": [
    "Now we have simplified our dataset by combining the primary and secondary account columns \n",
    "\n",
    "Let's drop the ones we no longer need to avoid data duplication"
   ]
  },
  {
   "cell_type": "code",
   "execution_count": 17,
   "metadata": {},
   "outputs": [],
   "source": [
    "# Drop the old primary and secondary account columns to avoid redundancy\n",
    "drop_cols = ['PRI_NO_OF_ACCTS', 'PRI_ACTIVE_ACCTS', 'PRI_OVERDUE_ACCTS', 'PRI_CURRENT_BALANCE', 'PRI_SANCTIONED_AMOUNT', 'PRI_DISBURSED_AMOUNT', 'PRIMARY_INSTAL_AMT', 'SEC_NO_OF_ACCTS', 'SEC_ACTIVE_ACCTS', 'SEC_OVERDUE_ACCTS', 'SEC_CURRENT_BALANCE', 'SEC_SANCTIONED_AMOUNT', 'SEC_DISBURSED_AMOUNT', 'SEC_INSTAL_AMT']\n",
    "loan_df = loan_df.drop(drop_cols, axis=1)"
   ]
  },
  {
   "cell_type": "markdown",
   "metadata": {},
   "source": [
    "We may also be interested in calculating the percentage of overdue accounts a person has"
   ]
  },
  {
   "cell_type": "code",
   "execution_count": 18,
   "metadata": {},
   "outputs": [],
   "source": [
    "# Calculate the percentage of overdue accounts\n",
    "loan_df['OVERDUE_PCT'] = loan_df['TOTAL_OVERDUE_ACCTS'] / loan_df['TOTAL_ACCTS']"
   ]
  },
  {
   "cell_type": "markdown",
   "metadata": {},
   "source": [
    "Check this new column for missing values, remember a lot of rows will have 0 'TOTAL_ACCTS'"
   ]
  },
  {
   "cell_type": "code",
   "execution_count": 19,
   "metadata": {},
   "outputs": [
    {
     "data": {
      "text/plain": [
       "115792"
      ]
     },
     "execution_count": 19,
     "metadata": {},
     "output_type": "execute_result"
    }
   ],
   "source": [
    "# Check column for missing values\n",
    "loan_df['OVERDUE_PCT'].isnull().sum()"
   ]
  },
  {
   "cell_type": "markdown",
   "metadata": {},
   "source": [
    "Ok, we have a lot of missing values we can fill them with 0s using [fillna](https://pandas.pydata.org/pandas-docs/stable/reference/api/pandas.Series.fillna.html)"
   ]
  },
  {
   "cell_type": "code",
   "execution_count": 20,
   "metadata": {},
   "outputs": [],
   "source": [
    "# Fill missing values with 0\n",
    "loan_df['OVERDUE_PCT'] = loan_df['OVERDUE_PCT'].fillna(0)"
   ]
  },
  {
   "cell_type": "markdown",
   "metadata": {},
   "source": [
    "Let's use [isnull](https://pandas.pydata.org/pandas-docs/stable/reference/api/pandas.Series.isnull.html) and [sum](https://pandas.pydata.org/pandas-docs/stable/reference/api/pandas.Series.sum.html) again to make sure we no longer have missing values"
   ]
  },
  {
   "cell_type": "code",
   "execution_count": 21,
   "metadata": {},
   "outputs": [
    {
     "data": {
      "text/plain": [
       "0"
      ]
     },
     "execution_count": 21,
     "metadata": {},
     "output_type": "execute_result"
    }
   ],
   "source": [
    "# Check for any remaining missing values\n",
    "loan_df['OVERDUE_PCT'].isnull().sum()"
   ]
  },
  {
   "cell_type": "markdown",
   "metadata": {},
   "source": [
    "Our new OVERDUE_PCT column no longer has any missing values. \n",
    "\n",
    "We have done a lot of feature engineering so far, so let's use the [info](https://pandas.pydata.org/pandas-docs/stable/reference/api/pandas.DataFrame.info.html) function to take a look at our columns"
   ]
  },
  {
   "cell_type": "code",
   "execution_count": 22,
   "metadata": {},
   "outputs": [
    {
     "name": "stdout",
     "output_type": "stream",
     "text": [
      "<class 'pandas.core.frame.DataFrame'>\n",
      "Index: 233154 entries, 420825 to 630213\n",
      "Data columns (total 31 columns):\n",
      " #   Column                               Non-Null Count   Dtype   \n",
      "---  ------                               --------------   -----   \n",
      " 0   DISBURSED_AMOUNT                     233154 non-null  int64   \n",
      " 1   ASSET_COST                           233154 non-null  int64   \n",
      " 2   LTV                                  233154 non-null  float64 \n",
      " 3   MANUFACTURER_ID                      233154 non-null  int64   \n",
      " 4   EMPLOYMENT_TYPE                      233154 non-null  object  \n",
      " 5   STATE_ID                             233154 non-null  int64   \n",
      " 6   AADHAR_FLAG                          233154 non-null  int64   \n",
      " 7   PAN_FLAG                             233154 non-null  int64   \n",
      " 8   VOTERID_FLAG                         233154 non-null  int64   \n",
      " 9   DRIVING_FLAG                         233154 non-null  int64   \n",
      " 10  PASSPORT_FLAG                        233154 non-null  int64   \n",
      " 11  PERFORM_CNS_SCORE                    233154 non-null  int64   \n",
      " 12  PERFORM_CNS_SCORE_DESCRIPTION        233154 non-null  object  \n",
      " 13  NEW_ACCTS_IN_LAST_SIX_MONTHS         233154 non-null  int64   \n",
      " 14  DELINQUENT_ACCTS_IN_LAST_SIX_MONTHS  233154 non-null  int64   \n",
      " 15  NO_OF_INQUIRIES                      233154 non-null  int64   \n",
      " 16  LOAN_DEFAULT                         233154 non-null  int64   \n",
      " 17  AGE                                  233154 non-null  int64   \n",
      " 18  DISBURSAL_MONTH                      233154 non-null  int64   \n",
      " 19  AVERAGE_ACCT_AGE_MONTHS              233154 non-null  int64   \n",
      " 20  CREDIT_HISTORY_LENGTH_MONTHS         233154 non-null  int64   \n",
      " 21  DISBURSED_CAT                        233154 non-null  category\n",
      " 22  DISBURSAL_DIFFERENCE                 233154 non-null  int64   \n",
      " 23  TOTAL_ACCTS                          233154 non-null  int64   \n",
      " 24  TOTAL_ACTIVE_ACCTS                   233154 non-null  int64   \n",
      " 25  TOTAL_OVERDUE_ACCTS                  233154 non-null  int64   \n",
      " 26  TOTAL_CURRENT_BALANCE                233154 non-null  int64   \n",
      " 27  TOTAL_SANCTIONED_AMOUNT              233154 non-null  int64   \n",
      " 28  TOTAL_DISBURSED_AMOUNT               233154 non-null  int64   \n",
      " 29  TOTAL_INSTAL_AMT                     233154 non-null  int64   \n",
      " 30  OVERDUE_PCT                          233154 non-null  float64 \n",
      "dtypes: category(1), float64(2), int64(26), object(2)\n",
      "memory usage: 63.4+ MB\n"
     ]
    }
   ],
   "source": [
    "# Get info on 'OVERDUE_PCT' column\n",
    "loan_df.info()"
   ]
  },
  {
   "cell_type": "markdown",
   "metadata": {},
   "source": [
    "We have reduced our number of columns to 30\n",
    "\n",
    "Also, notice the presence of our new columns at the bottom of the list."
   ]
  },
  {
   "cell_type": "markdown",
   "metadata": {},
   "source": [
    "## Scaling \n",
    "\n",
    "- We will use min max scaling to bring our continuous variables into the same range \n",
    "- Outliers have been observed in the data. However, we will keep them as they appear to be legitimate\n",
    "- Sklearn provides an implementation of Min Max scaling, [MinMaxScaler](https://scikit-learn.org/stable/modules/generated/sklearn.preprocessing.MinMaxScaler.html)\n",
    "\n",
    "First, we create a list of our continuous columns \n",
    "- We can use this list to select the continuous variables from our dataframe without typing a long list of column names each time \n",
    "- We don't need to scale our categoricals or binaries\n",
    "\n"
   ]
  },
  {
   "cell_type": "code",
   "execution_count": 23,
   "metadata": {},
   "outputs": [],
   "source": [
    "# List of numeric columns to be scaled\n",
    "numeric_cols = ['DISBURSED_AMOUNT', \n",
    "                'ASSET_COST', \n",
    "                'LTV', \n",
    "                'NEW_ACCTS_IN_LAST_SIX_MONTHS', \n",
    "                'DELINQUENT_ACCTS_IN_LAST_SIX_MONTHS', \n",
    "                'NO_OF_INQUIRIES', \n",
    "                'AGE', \n",
    "                'AVERAGE_ACCT_AGE_MONTHS', \n",
    "                'CREDIT_HISTORY_LENGTH_MONTHS',\n",
    "                'PERFORM_CNS_SCORE',\n",
    "                'TOTAL_ACCTS',\n",
    "                'TOTAL_ACTIVE_ACCTS',\n",
    "                'TOTAL_OVERDUE_ACCTS',\n",
    "                'TOTAL_CURRENT_BALANCE', \n",
    "                'TOTAL_SANCTIONED_AMOUNT', \n",
    "                'TOTAL_DISBURSED_AMOUNT', \n",
    "                'TOTAL_INSTAL_AMT', \n",
    "                'OVERDUE_PCT', \n",
    "                'DISBURSAL_DIFFERENCE']"
   ]
  },
  {
   "cell_type": "markdown",
   "metadata": {},
   "source": [
    "Let's look at the numeric columns so we have a reference. \n",
    "\n",
    "We can plot multiple columns on the same plot using pandas [boxplot](https://pandas.pydata.org/pandas-docs/stable/reference/api/pandas.DataFrame.boxplot.html)"
   ]
  },
  {
   "cell_type": "code",
   "execution_count": 24,
   "metadata": {},
   "outputs": [
    {
     "data": {
      "image/png": "[encoded data removed]",
      "text/plain": [
       "<Figure size 640x480 with 1 Axes>"
      ]
     },
     "metadata": {},
     "output_type": "display_data"
    }
   ],
   "source": [
    "# Plot boxplots for a few numeric columns\n",
    "loan_df[['LTV', 'ASSET_COST', 'AGE']].boxplot()\n",
    "plt.title('Prior to Scaling')\n",
    "plt.show()"
   ]
  },
  {
   "cell_type": "markdown",
   "metadata": {},
   "source": [
    "Observe that the numeric values are distributed across very different scales.\n",
    "\n",
    "Let's fix this problem using Min Max Scaling. \n",
    "\n",
    "First we need to create an instance of [MinMaxScaler](https://scikit-learn.org/stable/modules/generated/sklearn.preprocessing.MinMaxScaler.html) "
   ]
  },
  {
   "cell_type": "code",
   "execution_count": 25,
   "metadata": {},
   "outputs": [],
   "source": [
    "# Initialise the MinMaxScaler\n",
    "mm_scaler = MinMaxScaler()"
   ]
  },
  {
   "cell_type": "markdown",
   "metadata": {},
   "source": [
    "We can use [fit_transform](https://scikit-learn.org/stable/modules/generated/sklearn.preprocessing.MinMaxScaler.html#sklearn.preprocessing.MinMaxScaler.fit_transform) to fit the scaler to our data and perform the scaling"
   ]
  },
  {
   "cell_type": "code",
   "execution_count": 26,
   "metadata": {},
   "outputs": [],
   "source": [
    "# Apply MinMax scaling to the numeric columns\n",
    "loan_df[numeric_cols] = mm_scaler.fit_transform(loan_df[numeric_cols])"
   ]
  },
  {
   "cell_type": "markdown",
   "metadata": {},
   "source": [
    "Let's have a quick look at the boxplots now"
   ]
  },
  {
   "cell_type": "code",
   "execution_count": 27,
   "metadata": {},
   "outputs": [
    {
     "data": {
      "image/png": "[encoded data removed]",
      "text/plain": [
       "<Figure size 640x480 with 1 Axes>"
      ]
     },
     "metadata": {},
     "output_type": "display_data"
    }
   ],
   "source": [
    "# Plot boxplots for the same numeric columns after scaling to check the normalisation\n",
    "loan_df[['LTV', 'ASSET_COST', 'AGE']].boxplot()\n",
    "plt.title('After Scaling')\n",
    "plt.show()"
   ]
  },
  {
   "cell_type": "markdown",
   "metadata": {},
   "source": [
    "Now all the values are ranged between 1 and 0"
   ]
  },
  {
   "cell_type": "code",
   "execution_count": 28,
   "metadata": {},
   "outputs": [],
   "source": [
    "# loan_df.to_csv('../data/vehicle_loans_feat.csv')"
   ]
  }
 ],
 "metadata": {
  "kernelspec": {
   "display_name": "Python 3 (ipykernel)",
   "language": "python",
   "name": "python3"
  },
  "language_info": {
   "codemirror_mode": {
    "name": "ipython",
    "version": 3
   },
   "file_extension": ".py",
   "mimetype": "text/x-python",
   "name": "python",
   "nbconvert_exporter": "python",
   "pygments_lexer": "ipython3",
   "version": "3.11.5"
  }
 },
 "nbformat": 4,
 "nbformat_minor": 2
}
